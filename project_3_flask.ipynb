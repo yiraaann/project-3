{
 "cells": [
  {
   "cell_type": "code",
   "execution_count": 54,
   "id": "d3c93c60-06f6-4579-bd0d-3ba20da4a597",
   "metadata": {},
   "outputs": [],
   "source": [
    "# Dependencies\n",
    "import numpy as np\n",
    "import pandas as pd\n",
    "import json\n",
    "import requests"
   ]
  },
  {
   "cell_type": "markdown",
   "id": "09e14f44-67ca-4a44-9e50-fccd18abb7d5",
   "metadata": {},
   "source": [
    "# Reflect Tables into SQL Alchemy ORM"
   ]
  },
  {
   "cell_type": "code",
   "execution_count": 55,
   "id": "1d96889f-ab9f-44ce-a526-f732ecd205f4",
   "metadata": {},
   "outputs": [],
   "source": [
    "# Python SQL toolkit and Object Relational Mapper\n",
    "import sqlalchemy\n",
    "from sqlalchemy.orm import Session\n",
    "from sqlalchemy import create_engine, func, inspect\n",
    "from flask import Flask, jsonify"
   ]
  },
  {
   "cell_type": "code",
   "execution_count": 56,
   "id": "768d40ad-4d65-4a2f-a2aa-29f2f405a073",
   "metadata": {},
   "outputs": [],
   "source": [
    "# Database Path Stored\n",
    "happiness_database_path = \"./Resources/happiness_score.sql\""
   ]
  },
  {
   "cell_type": "code",
   "execution_count": 57,
   "id": "33d59a46-fc1c-4ba1-afb4-a477fb4f6546",
   "metadata": {},
   "outputs": [],
   "source": [
    "# Create engine to 'sqlite' file\n",
    "engine = create_engine(\"sqlite:///{happiness_database_path}\")"
   ]
  },
  {
   "cell_type": "code",
   "execution_count": 59,
   "id": "2a17a2ab-22bc-4c34-a763-407bdf6e2564",
   "metadata": {},
   "outputs": [],
   "source": [
    "# reflect the database tables\n",
    "Base.prepare(autoload_with=engine)"
   ]
  },
  {
   "cell_type": "code",
   "execution_count": 60,
   "id": "b8d6bc53-f959-483b-b9f0-1ea8e76b2a4e",
   "metadata": {},
   "outputs": [
    {
     "data": {
      "text/plain": [
       "[]"
      ]
     },
     "execution_count": 60,
     "metadata": {},
     "output_type": "execute_result"
    }
   ],
   "source": [
    "# View all of the classes that automap found\n",
    "Base.classes.keys()"
   ]
  },
  {
   "cell_type": "code",
   "execution_count": 61,
   "id": "443a9560-aa1c-4003-b151-f1cc3a353983",
   "metadata": {},
   "outputs": [
    {
     "ename": "AttributeError",
     "evalue": "happiness_score",
     "output_type": "error",
     "traceback": [
      "\u001b[1;31m---------------------------------------------------------------------------\u001b[0m",
      "\u001b[1;31mKeyError\u001b[0m                                  Traceback (most recent call last)",
      "File \u001b[1;32m~\\anaconda3\\Lib\\site-packages\\sqlalchemy\\util\\_collections.py:214\u001b[0m, in \u001b[0;36mProperties.__getattr__\u001b[1;34m(self, key)\u001b[0m\n\u001b[0;32m    213\u001b[0m \u001b[38;5;28;01mtry\u001b[39;00m:\n\u001b[1;32m--> 214\u001b[0m     \u001b[38;5;28;01mreturn\u001b[39;00m \u001b[38;5;28mself\u001b[39m\u001b[38;5;241m.\u001b[39m_data[key]\n\u001b[0;32m    215\u001b[0m \u001b[38;5;28;01mexcept\u001b[39;00m \u001b[38;5;167;01mKeyError\u001b[39;00m:\n",
      "\u001b[1;31mKeyError\u001b[0m: 'happiness_score'",
      "\nDuring handling of the above exception, another exception occurred:\n",
      "\u001b[1;31mAttributeError\u001b[0m                            Traceback (most recent call last)",
      "Cell \u001b[1;32mIn[61], line 3\u001b[0m\n\u001b[0;32m      1\u001b[0m \u001b[38;5;66;03m# Save references to each table to a set variable\u001b[39;00m\n\u001b[0;32m      2\u001b[0m \u001b[38;5;66;03m#Connectivity = Base.classes.mobile\u001b[39;00m\n\u001b[1;32m----> 3\u001b[0m Happiness \u001b[38;5;241m=\u001b[39m Base\u001b[38;5;241m.\u001b[39mclasses\u001b[38;5;241m.\u001b[39mhappiness_score\n\u001b[0;32m      4\u001b[0m Oil_usage \u001b[38;5;241m=\u001b[39m Base\u001b[38;5;241m.\u001b[39mclasses\u001b[38;5;241m.\u001b[39menergy_use\n\u001b[0;32m      5\u001b[0m GDP \u001b[38;5;241m=\u001b[39m Base\u001b[38;5;241m.\u001b[39mclasses\u001b[38;5;241m.\u001b[39mgdp_percap\n",
      "File \u001b[1;32m~\\anaconda3\\Lib\\site-packages\\sqlalchemy\\util\\_collections.py:216\u001b[0m, in \u001b[0;36mProperties.__getattr__\u001b[1;34m(self, key)\u001b[0m\n\u001b[0;32m    214\u001b[0m     \u001b[38;5;28;01mreturn\u001b[39;00m \u001b[38;5;28mself\u001b[39m\u001b[38;5;241m.\u001b[39m_data[key]\n\u001b[0;32m    215\u001b[0m \u001b[38;5;28;01mexcept\u001b[39;00m \u001b[38;5;167;01mKeyError\u001b[39;00m:\n\u001b[1;32m--> 216\u001b[0m     \u001b[38;5;28;01mraise\u001b[39;00m \u001b[38;5;167;01mAttributeError\u001b[39;00m(key)\n",
      "\u001b[1;31mAttributeError\u001b[0m: happiness_score"
     ]
    }
   ],
   "source": [
    "# Save references to each table to a set variable\n",
    "#Connectivity = Base.classes.mobile\n",
    "Happiness = Base.classes.happiness_score\n",
    "Oil_usage = Base.classes.energy_use\n",
    "GDP = Base.classes.gdp_percap\n",
    "Connectivity = Base.classes.mobile"
   ]
  },
  {
   "cell_type": "code",
   "execution_count": 62,
   "id": "80733304-1501-4fad-a1a8-644f105f00c4",
   "metadata": {},
   "outputs": [],
   "source": [
    "# Create our session (link) from Python to the DB\n",
    "session = Session(engine)"
   ]
  },
  {
   "cell_type": "code",
   "execution_count": null,
   "id": "6bf1eb33-ce59-477a-8251-e2284ad74fbc",
   "metadata": {},
   "outputs": [],
   "source": []
  },
  {
   "cell_type": "markdown",
   "id": "696b28a8-a377-4dab-bf07-e30ff93a4e34",
   "metadata": {},
   "source": [
    "# Exploratory Test Analysis"
   ]
  },
  {
   "cell_type": "code",
   "execution_count": 63,
   "id": "6cc41b18-2234-4a2e-82fc-adf70c672b15",
   "metadata": {},
   "outputs": [
    {
     "ename": "NoSuchTableError",
     "evalue": "happiness",
     "output_type": "error",
     "traceback": [
      "\u001b[1;31m---------------------------------------------------------------------------\u001b[0m",
      "\u001b[1;31mNoSuchTableError\u001b[0m                          Traceback (most recent call last)",
      "Cell \u001b[1;32mIn[63], line 5\u001b[0m\n\u001b[0;32m      2\u001b[0m inspector \u001b[38;5;241m=\u001b[39m inspect(engine)\n\u001b[0;32m      4\u001b[0m \u001b[38;5;66;03m# Columns\u001b[39;00m\n\u001b[1;32m----> 5\u001b[0m happiness_columns \u001b[38;5;241m=\u001b[39m inspector\u001b[38;5;241m.\u001b[39mget_columns(\u001b[38;5;124m\"\u001b[39m\u001b[38;5;124mhappiness\u001b[39m\u001b[38;5;124m\"\u001b[39m)\n\u001b[0;32m      6\u001b[0m \u001b[38;5;28;01mfor\u001b[39;00m c \u001b[38;5;129;01min\u001b[39;00m happiness_columns:\n\u001b[0;32m      7\u001b[0m     \u001b[38;5;28mprint\u001b[39m(c[\u001b[38;5;124m\"\u001b[39m\u001b[38;5;124mname\u001b[39m\u001b[38;5;124m\"\u001b[39m], c[\u001b[38;5;124m\"\u001b[39m\u001b[38;5;124mtype\u001b[39m\u001b[38;5;124m\"\u001b[39m])\n",
      "File \u001b[1;32m~\\anaconda3\\Lib\\site-packages\\sqlalchemy\\engine\\reflection.py:859\u001b[0m, in \u001b[0;36mInspector.get_columns\u001b[1;34m(self, table_name, schema, **kw)\u001b[0m\n\u001b[0;32m    835\u001b[0m \u001b[38;5;250m\u001b[39m\u001b[38;5;124mr\u001b[39m\u001b[38;5;124;03m\"\"\"Return information about columns in ``table_name``.\u001b[39;00m\n\u001b[0;32m    836\u001b[0m \n\u001b[0;32m    837\u001b[0m \u001b[38;5;124;03mGiven a string ``table_name`` and an optional string ``schema``,\u001b[39;00m\n\u001b[1;32m   (...)\u001b[0m\n\u001b[0;32m    855\u001b[0m \n\u001b[0;32m    856\u001b[0m \u001b[38;5;124;03m\"\"\"\u001b[39;00m\n\u001b[0;32m    858\u001b[0m \u001b[38;5;28;01mwith\u001b[39;00m \u001b[38;5;28mself\u001b[39m\u001b[38;5;241m.\u001b[39m_operation_context() \u001b[38;5;28;01mas\u001b[39;00m conn:\n\u001b[1;32m--> 859\u001b[0m     col_defs \u001b[38;5;241m=\u001b[39m \u001b[38;5;28mself\u001b[39m\u001b[38;5;241m.\u001b[39mdialect\u001b[38;5;241m.\u001b[39mget_columns(\n\u001b[0;32m    860\u001b[0m         conn, table_name, schema, info_cache\u001b[38;5;241m=\u001b[39m\u001b[38;5;28mself\u001b[39m\u001b[38;5;241m.\u001b[39minfo_cache, \u001b[38;5;241m*\u001b[39m\u001b[38;5;241m*\u001b[39mkw\n\u001b[0;32m    861\u001b[0m     )\n\u001b[0;32m    862\u001b[0m \u001b[38;5;28;01mif\u001b[39;00m col_defs:\n\u001b[0;32m    863\u001b[0m     \u001b[38;5;28mself\u001b[39m\u001b[38;5;241m.\u001b[39m_instantiate_types([col_defs])\n",
      "File \u001b[1;32m<string>:2\u001b[0m, in \u001b[0;36mget_columns\u001b[1;34m(self, connection, table_name, schema, **kw)\u001b[0m\n",
      "File \u001b[1;32m~\\anaconda3\\Lib\\site-packages\\sqlalchemy\\engine\\reflection.py:97\u001b[0m, in \u001b[0;36mcache\u001b[1;34m(fn, self, con, *args, **kw)\u001b[0m\n\u001b[0;32m     95\u001b[0m ret: _R \u001b[38;5;241m=\u001b[39m info_cache\u001b[38;5;241m.\u001b[39mget(key)\n\u001b[0;32m     96\u001b[0m \u001b[38;5;28;01mif\u001b[39;00m ret \u001b[38;5;129;01mis\u001b[39;00m \u001b[38;5;28;01mNone\u001b[39;00m:\n\u001b[1;32m---> 97\u001b[0m     ret \u001b[38;5;241m=\u001b[39m fn(\u001b[38;5;28mself\u001b[39m, con, \u001b[38;5;241m*\u001b[39margs, \u001b[38;5;241m*\u001b[39m\u001b[38;5;241m*\u001b[39mkw)\n\u001b[0;32m     98\u001b[0m     info_cache[key] \u001b[38;5;241m=\u001b[39m ret\n\u001b[0;32m     99\u001b[0m \u001b[38;5;28;01mreturn\u001b[39;00m ret\n",
      "File \u001b[1;32m~\\anaconda3\\Lib\\site-packages\\sqlalchemy\\dialects\\sqlite\\base.py:2250\u001b[0m, in \u001b[0;36mSQLiteDialect.get_columns\u001b[1;34m(self, connection, table_name, schema, **kw)\u001b[0m\n\u001b[0;32m   2248\u001b[0m     \u001b[38;5;28;01mreturn\u001b[39;00m columns\n\u001b[0;32m   2249\u001b[0m \u001b[38;5;28;01melif\u001b[39;00m \u001b[38;5;129;01mnot\u001b[39;00m \u001b[38;5;28mself\u001b[39m\u001b[38;5;241m.\u001b[39mhas_table(connection, table_name, schema):\n\u001b[1;32m-> 2250\u001b[0m     \u001b[38;5;28;01mraise\u001b[39;00m exc\u001b[38;5;241m.\u001b[39mNoSuchTableError(\n\u001b[0;32m   2251\u001b[0m         \u001b[38;5;124mf\u001b[39m\u001b[38;5;124m\"\u001b[39m\u001b[38;5;132;01m{\u001b[39;00mschema\u001b[38;5;132;01m}\u001b[39;00m\u001b[38;5;124m.\u001b[39m\u001b[38;5;132;01m{\u001b[39;00mtable_name\u001b[38;5;132;01m}\u001b[39;00m\u001b[38;5;124m\"\u001b[39m \u001b[38;5;28;01mif\u001b[39;00m schema \u001b[38;5;28;01melse\u001b[39;00m table_name\n\u001b[0;32m   2252\u001b[0m     )\n\u001b[0;32m   2253\u001b[0m \u001b[38;5;28;01melse\u001b[39;00m:\n\u001b[0;32m   2254\u001b[0m     \u001b[38;5;28;01mreturn\u001b[39;00m ReflectionDefaults\u001b[38;5;241m.\u001b[39mcolumns()\n",
      "\u001b[1;31mNoSuchTableError\u001b[0m: happiness"
     ]
    }
   ],
   "source": [
    "# Import inspector to find column names for each table to better define queries\n",
    "inspector = inspect(engine)\n",
    "\n",
    "# Columns\n",
    "happiness_columns = inspector.get_columns(\"happiness\")\n",
    "for c in happiness_columns:\n",
    "    print(c[\"name\"], c[\"type\"])"
   ]
  },
  {
   "cell_type": "markdown",
   "id": "8dcec20e-57b3-41a0-b2d9-4a02d24226d8",
   "metadata": {},
   "source": [
    "# Close Session"
   ]
  },
  {
   "cell_type": "code",
   "execution_count": null,
   "id": "9225c962-01d0-4911-95c3-e96506dd53c0",
   "metadata": {},
   "outputs": [],
   "source": [
    "# Close Session\n",
    "session.close()"
   ]
  }
 ],
 "metadata": {
  "kernelspec": {
   "display_name": "Python 3 (ipykernel)",
   "language": "python",
   "name": "python3"
  },
  "language_info": {
   "codemirror_mode": {
    "name": "ipython",
    "version": 3
   },
   "file_extension": ".py",
   "mimetype": "text/x-python",
   "name": "python",
   "nbconvert_exporter": "python",
   "pygments_lexer": "ipython3",
   "version": "3.12.4"
  }
 },
 "nbformat": 4,
 "nbformat_minor": 5
}
