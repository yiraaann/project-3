{
 "cells": [
  {
   "cell_type": "code",
   "execution_count": null,
   "id": "d3c93c60-06f6-4579-bd0d-3ba20da4a597",
   "metadata": {},
   "outputs": [],
   "source": [
    "# Dependencies\n",
    "import numpy as np\n",
    "import pandas as pd\n",
    "import json\n",
    "import requests"
   ]
  },
  {
   "cell_type": "markdown",
   "id": "09e14f44-67ca-4a44-9e50-fccd18abb7d5",
   "metadata": {},
   "source": [
    "# Reflect Tables into SQL Alchemy ORM"
   ]
  },
  {
   "cell_type": "code",
   "execution_count": null,
   "id": "1d96889f-ab9f-44ce-a526-f732ecd205f4",
   "metadata": {},
   "outputs": [],
   "source": [
    "# Python SQL toolkit and Object Relational Mapper\n",
    "import sqlalchemy\n",
    "from sqlalchemy.ext.automap import automap_base\n",
    "from sqlalchemy.orm import Session\n",
    "from sqlalchemy import create_engine, func, inspect\n",
    "from flask import Flask, jsonify"
   ]
  },
  {
   "cell_type": "code",
   "execution_count": null,
   "id": "33d59a46-fc1c-4ba1-afb4-a477fb4f6546",
   "metadata": {},
   "outputs": [],
   "source": [
    "# Create engine to 'sqlite' file\n",
    "engine = create_engine(\"sqlite:///Resources/.sqlite\")"
   ]
  },
  {
   "cell_type": "code",
   "execution_count": null,
   "id": "2a17a2ab-22bc-4c34-a763-407bdf6e2564",
   "metadata": {},
   "outputs": [],
   "source": [
    "# reflect an existing database into a new model\n",
    "Base = automap_base()\n",
    "\n",
    "# reflect the database tables\n",
    "Base.prepare(autoload_with=engine)"
   ]
  },
  {
   "cell_type": "code",
   "execution_count": null,
   "id": "b8d6bc53-f959-483b-b9f0-1ea8e76b2a4e",
   "metadata": {},
   "outputs": [],
   "source": [
    "# View all of the classes that automap found\n",
    "Base.classes.keys()"
   ]
  },
  {
   "cell_type": "code",
   "execution_count": null,
   "id": "443a9560-aa1c-4003-b151-f1cc3a353983",
   "metadata": {},
   "outputs": [],
   "source": [
    "# Save references to each table to a set variable\n",
    "life_expectancy = Base.classes.life_expectancy\n",
    "oil_usage = Base.classes.oil_usage\n",
    "gdp = Base.classes.gdp\n",
    "happiness = Base.classes.happiness\n"
   ]
  },
  {
   "cell_type": "code",
   "execution_count": null,
   "id": "80733304-1501-4fad-a1a8-644f105f00c4",
   "metadata": {},
   "outputs": [],
   "source": [
    "# Create our session (link) from Python to the DB\n",
    "session = Session(engine)"
   ]
  },
  {
   "cell_type": "markdown",
   "id": "696b28a8-a377-4dab-bf07-e30ff93a4e34",
   "metadata": {},
   "source": [
    "# Exploratory Test Analysis"
   ]
  },
  {
   "cell_type": "code",
   "execution_count": null,
   "id": "6cc41b18-2234-4a2e-82fc-adf70c672b15",
   "metadata": {},
   "outputs": [],
   "source": [
    "# Import inspector to find column names for each table to better define queries\n",
    "inspector = inspect(engine)\n",
    "\n",
    "# Columns\n",
    "happiness_columns = inspector.get_columns(\"happiness\")\n",
    "for c in happiness_columns:\n",
    "    print(c[\"name\"], c[\"type\"])"
   ]
  },
  {
   "cell_type": "markdown",
   "id": "8dcec20e-57b3-41a0-b2d9-4a02d24226d8",
   "metadata": {},
   "source": [
    "# Close Session"
   ]
  },
  {
   "cell_type": "code",
   "execution_count": null,
   "id": "9225c962-01d0-4911-95c3-e96506dd53c0",
   "metadata": {},
   "outputs": [],
   "source": [
    "# Close Session\n",
    "session.close()"
   ]
  }
 ],
 "metadata": {
  "kernelspec": {
   "display_name": "Python 3 (ipykernel)",
   "language": "python",
   "name": "python3"
  },
  "language_info": {
   "codemirror_mode": {
    "name": "ipython",
    "version": 3
   },
   "file_extension": ".py",
   "mimetype": "text/x-python",
   "name": "python",
   "nbconvert_exporter": "python",
   "pygments_lexer": "ipython3",
   "version": "3.12.4"
  }
 },
 "nbformat": 4,
 "nbformat_minor": 5
}
