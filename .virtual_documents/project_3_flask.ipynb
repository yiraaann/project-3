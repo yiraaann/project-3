# Dependencies
import numpy as np
import pandas as pd
import json
import requests





# Python SQL toolkit and Object Relational Mapper
import sqlalchemy
from sqlalchemy.ext.automap import automap_base
from sqlalchemy.orm import Session
from sqlalchemy import create_engine, func, inspect
from flask import Flask, jsonify


# Database Path Stored
happiness_database_path = "./Resources/happiness_score.sql"


# Create engine to 'sqlite' file
engine = create_engine("sqlite:///{happiness_database_path}")


# reflect an existing database into a new model
Base = automap_base()

# reflect the database tables
Base.prepare(autoload_with=engine)


# View all of the classes that automap found
Base.classes.keys()


# Save references to each table to a set variable
#Connectivity = Base.classes.mobile
Happiness = Base.classes.happiness_score
Oil_usage = Base.classes.energy_use
GDP = Base.classes.gdp_percap
Connectivity = Base.classes.mobile


# Create our session (link) from Python to the DB
session = Session(engine)


#debug statement to check if measurement is working properly
for row in session.query(Measurement, Measurement.date).limit(5).all():
    print(row)





# Import inspector to find column names for each table to better define queries
inspector = inspect(engine)

# Columns
happiness_columns = inspector.get_columns("happiness")
for c in happiness_columns:
    print(c["name"], c["type"])





# Close Session
session.close()
